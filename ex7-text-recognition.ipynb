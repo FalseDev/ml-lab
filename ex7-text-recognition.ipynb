{
 "cells": [
  {
   "cell_type": "code",
   "execution_count": null,
   "id": "4ed0cdd3-208f-46cb-b44b-0a5c4fefb8ac",
   "metadata": {},
   "outputs": [],
   "source": [
    "import cv2\n",
    "from matplotlib import pyplot as plt\n",
    "import easyocr"
   ]
  },
  {
   "cell_type": "code",
   "execution_count": null,
   "id": "52cec891-633d-4f09-a5a1-361babcfb45a",
   "metadata": {},
   "outputs": [],
   "source": [
    "%%capture\n",
    "# the %%capture will supress download progress messages\n",
    "reader = easyocr.Reader(\n",
    "    [\"en\"]\n",
    ")  # this needs to run only once to load the model into memory"
   ]
  },
  {
   "cell_type": "code",
   "execution_count": null,
   "id": "d8e54932-5585-40d0-8bd7-5c7428587925",
   "metadata": {},
   "outputs": [],
   "source": [
    "IMAGE_PATH = \"datasets/ocr.jpeg\""
   ]
  },
  {
   "cell_type": "code",
   "execution_count": null,
   "id": "d473b660-5c73-4bad-a64d-333d016c4853",
   "metadata": {},
   "outputs": [],
   "source": [
    "img = cv2.imread(IMAGE_PATH)\n",
    "plt.imshow(img)"
   ]
  },
  {
   "cell_type": "code",
   "execution_count": null,
   "id": "9944f98c-3719-4579-939b-275b3515a546",
   "metadata": {},
   "outputs": [],
   "source": [
    "result = reader.readtext(IMAGE_PATH)\n",
    "img = cv2.imread(IMAGE_PATH)\n",
    "for finding in result:\n",
    "    top_left = tuple(finding[0][0])\n",
    "    bottom_right = tuple(finding[0][2])\n",
    "    text = finding[1]\n",
    "    font = cv2.FONT_HERSHEY_SIMPLEX\n",
    "    img = cv2.rectangle(img, top_left, bottom_right, (0, 255, 0), 3)\n",
    "    img = cv2.putText(img, text, top_left, font, 1, (255, 0, 255), 2, cv2.LINE_AA)\n",
    "\n",
    "print([r[1] for r in result])\n",
    "\n",
    "plt.imshow(img)\n",
    "plt.show()"
   ]
  }
 ],
 "metadata": {
  "kernelspec": {
   "display_name": "Python 3 (ipykernel)",
   "language": "python",
   "name": "python3"
  },
  "language_info": {
   "codemirror_mode": {
    "name": "ipython",
    "version": 3
   },
   "file_extension": ".py",
   "mimetype": "text/x-python",
   "name": "python",
   "nbconvert_exporter": "python",
   "pygments_lexer": "ipython3",
   "version": "3.11.9"
  }
 },
 "nbformat": 4,
 "nbformat_minor": 5
}
