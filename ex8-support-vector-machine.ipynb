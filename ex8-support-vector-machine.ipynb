{
 "cells": [
  {
   "cell_type": "markdown",
   "id": "8946cfbe-2fb9-4b25-9bdb-a0187b4575ea",
   "metadata": {},
   "source": [
    "# Import the dataset"
   ]
  },
  {
   "cell_type": "code",
   "execution_count": null,
   "id": "68c2fba0-9ad2-48b5-9d42-53ca05686b9e",
   "metadata": {},
   "outputs": [],
   "source": [
    "import pandas as pd\n",
    "import seaborn as sns\n",
    "import matplotlib.pyplot as plt"
   ]
  },
  {
   "cell_type": "code",
   "execution_count": null,
   "id": "3750b51c-5cb4-4354-a77d-43a347244587",
   "metadata": {},
   "outputs": [],
   "source": [
    "spam = pd.read_csv(\"datasets/spam.csv\")\n",
    "spam.head()"
   ]
  },
  {
   "cell_type": "markdown",
   "id": "7dc70cf7-553c-4cbb-9c19-bf2b4b1256cc",
   "metadata": {},
   "source": [
    "# Check the shape of the dataset"
   ]
  },
  {
   "cell_type": "code",
   "execution_count": null,
   "id": "4b362475-c31e-4e6b-8b42-cb4d8e51f838",
   "metadata": {},
   "outputs": [],
   "source": [
    "spam.shape"
   ]
  },
  {
   "cell_type": "markdown",
   "id": "cfa8c1ad-530d-457a-b5f6-612ac5ee6b31",
   "metadata": {},
   "source": [
    "# Check the columns present in the dataset"
   ]
  },
  {
   "cell_type": "code",
   "execution_count": null,
   "id": "c9c0542a-162d-403f-bbb5-c44481c89e9e",
   "metadata": {},
   "outputs": [],
   "source": [
    "spam.columns"
   ]
  },
  {
   "cell_type": "markdown",
   "id": "b571374e-34c5-4a26-8b1e-8d2d46eca36b",
   "metadata": {},
   "source": [
    "# Check the descriptive statistics of the dataset"
   ]
  },
  {
   "cell_type": "code",
   "execution_count": null,
   "id": "cac8df76-e468-495b-92a8-202b9a1e5439",
   "metadata": {},
   "outputs": [],
   "source": [
    "spam.describe()"
   ]
  },
  {
   "cell_type": "markdown",
   "id": "bea0afe3-5967-4ea9-90f2-9b07c39c36fd",
   "metadata": {},
   "source": [
    "# Check the info of the dataset"
   ]
  },
  {
   "cell_type": "code",
   "execution_count": null,
   "id": "069e088b-a8e9-42d4-9259-a0fe4c34ffc5",
   "metadata": {},
   "outputs": [],
   "source": [
    "spam.info()"
   ]
  },
  {
   "cell_type": "code",
   "execution_count": null,
   "id": "1cb85f63-1104-48eb-b4ee-1b9adec72e3b",
   "metadata": {},
   "outputs": [],
   "source": [
    "spam[\"Label\"].value_counts()"
   ]
  },
  {
   "cell_type": "code",
   "execution_count": null,
   "id": "9e287ee8-95ac-4acc-91de-f4e643835096",
   "metadata": {},
   "outputs": [],
   "source": [
    "sns.countplot(data=spam, x=spam[\"Label\"]).set_title(\n",
    "    \"Amount of spam and no-spam messages\"\n",
    ")\n",
    "plt.show()"
   ]
  },
  {
   "cell_type": "markdown",
   "id": "d4ef02fa-414b-4c64-956a-ec8e11683178",
   "metadata": {},
   "source": [
    "# Plotting Pie-Chart"
   ]
  },
  {
   "cell_type": "code",
   "execution_count": null,
   "id": "8a699eda-9181-46cf-9eba-32044491fb1c",
   "metadata": {},
   "outputs": [],
   "source": [
    "count_Class = pd.value_counts(spam.Label, sort=True)\n",
    "# Data to plot\n",
    "labels = \"Ham\", \"Spam\"\n",
    "sizes = [count_Class[0], count_Class[1]]\n",
    "colors = [\"gold\", \"yellowgreen\"]  # 'lightcoral', 'lightskyblue'\n",
    "explode = (0.1, 0.1)  # explode 1st slice\n",
    "\n",
    "plt.pie(\n",
    "    sizes,\n",
    "    explode=explode,\n",
    "    labels=labels,\n",
    "    colors=colors,\n",
    "    autopct=\"%1.1f%%\",\n",
    "    shadow=True,\n",
    "    startangle=140,\n",
    ")\n",
    "plt.axis(\"equal\")\n",
    "plt.show()"
   ]
  },
  {
   "cell_type": "markdown",
   "id": "c34e12da-3480-4403-8980-0670576e24c0",
   "metadata": {},
   "source": [
    "# Extract the independent variables to create a dataframe X"
   ]
  },
  {
   "cell_type": "code",
   "execution_count": null,
   "id": "334f1c76-839a-44d6-ba3c-712e2e60417a",
   "metadata": {},
   "outputs": [],
   "source": [
    "X = spam[\"EmailText\"]\n",
    "X.head()"
   ]
  },
  {
   "cell_type": "markdown",
   "id": "df3ed76a-626f-4d1e-8670-069495e17239",
   "metadata": {},
   "source": [
    "# Extract the dependent variables to create a dataframe y"
   ]
  },
  {
   "cell_type": "code",
   "execution_count": null,
   "id": "5759c123-a7a0-4c40-8886-b2a9e07db8c3",
   "metadata": {},
   "outputs": [],
   "source": [
    "y = spam[\"Label\"]\n",
    "y.head()"
   ]
  },
  {
   "cell_type": "markdown",
   "id": "bec32936-8e5f-468a-ac7f-d9105072cf47",
   "metadata": {},
   "source": [
    "# Split X and y into train and test dataset with test_size = 0.20, random_state=0"
   ]
  },
  {
   "cell_type": "code",
   "execution_count": null,
   "id": "28483848-0d1a-4bcf-ac8c-d580fd717e0d",
   "metadata": {},
   "outputs": [],
   "source": [
    "from sklearn.model_selection import train_test_split\n",
    "\n",
    "X_train, X_test, y_train, y_test = train_test_split(\n",
    "    X, y, test_size=0.20, random_state=0\n",
    ")"
   ]
  },
  {
   "cell_type": "markdown",
   "id": "2e213ab1-e3c7-40b6-b67f-8b31a652b2ca",
   "metadata": {},
   "source": [
    "# Check the shape of X and y of train dataset"
   ]
  },
  {
   "cell_type": "code",
   "execution_count": null,
   "id": "35b8671e-bffb-45a3-b6c8-2fa8182a4b56",
   "metadata": {},
   "outputs": [],
   "source": [
    "print(X_train.shape)\n",
    "print(y_train.shape)"
   ]
  },
  {
   "cell_type": "markdown",
   "id": "7264ecc3-469a-4495-ab0c-994c7a2c74a0",
   "metadata": {},
   "source": [
    "# Check the shape of X and y of test dataset"
   ]
  },
  {
   "cell_type": "code",
   "execution_count": null,
   "id": "67a1aa34-69a4-42b2-8d1b-f7b033639802",
   "metadata": {},
   "outputs": [],
   "source": [
    "print(X_test.shape)\n",
    "print(y_test.shape)"
   ]
  },
  {
   "cell_type": "markdown",
   "id": "59917c9c-bef6-420d-9469-0ad8d28f4b58",
   "metadata": {},
   "source": [
    "# Applying various models of Machine Learning"
   ]
  },
  {
   "cell_type": "code",
   "execution_count": null,
   "id": "fa383e35-7d32-4472-bdd9-06f44733c02b",
   "metadata": {},
   "outputs": [],
   "source": [
    "from sklearn.feature_extraction.text import CountVectorizer\n",
    "\n",
    "cv = CountVectorizer()\n",
    "trainCV = cv.fit_transform(X_train)\n",
    "testCV = cv.transform(X_test)"
   ]
  },
  {
   "cell_type": "code",
   "execution_count": null,
   "id": "9fa98576-b5b8-4f7a-aaaa-c7db18c9cdf4",
   "metadata": {},
   "outputs": [],
   "source": [
    "from sklearn.naive_bayes import MultinomialNB\n",
    "\n",
    "naive_bayes = MultinomialNB()\n",
    "naive_bayes.fit(trainCV, y_train)\n",
    "pred_NB = naive_bayes.predict(testCV)"
   ]
  },
  {
   "cell_type": "code",
   "execution_count": null,
   "id": "8eb3fd2f-4517-4b38-b3e4-88c55ca564cd",
   "metadata": {},
   "outputs": [],
   "source": [
    "from sklearn.metrics import accuracy_score\n",
    "\n",
    "Accuracy_Score_NB = accuracy_score(y_test, pred_NB)\n",
    "Accuracy_Score_NB"
   ]
  },
  {
   "cell_type": "code",
   "execution_count": null,
   "id": "d9cba75d-d03d-470f-aba2-bbd8ce6341fe",
   "metadata": {},
   "outputs": [],
   "source": [
    "from sklearn.neighbors import KNeighborsClassifier\n",
    "\n",
    "classifier_knn = KNeighborsClassifier()\n",
    "classifier_knn.fit(trainCV, y_train)\n",
    "pred_knn = classifier_knn.predict(testCV)"
   ]
  },
  {
   "cell_type": "code",
   "execution_count": null,
   "id": "c8d54d17-d7eb-41f3-adf6-cbb3332ac96f",
   "metadata": {},
   "outputs": [],
   "source": [
    "Accuracy_Score_knn = accuracy_score(y_test, pred_knn)\n",
    "Accuracy_Score_knn"
   ]
  },
  {
   "cell_type": "code",
   "execution_count": null,
   "id": "247cd364-2df3-4087-aa01-2b51a4c791f4",
   "metadata": {},
   "outputs": [],
   "source": [
    "from sklearn.svm import SVC\n",
    "\n",
    "classifier_svm_linear = SVC(kernel=\"linear\")\n",
    "classifier_svm_linear.fit(trainCV, y_train)\n",
    "pred_svm_linear = classifier_svm_linear.predict(testCV)"
   ]
  },
  {
   "cell_type": "code",
   "execution_count": null,
   "id": "665a36e2-25de-4184-bb46-2969aba5826e",
   "metadata": {},
   "outputs": [],
   "source": [
    "Accuracy_Score_SVM_Linear = accuracy_score(y_test, pred_svm_linear)\n",
    "Accuracy_Score_SVM_Linear"
   ]
  },
  {
   "cell_type": "code",
   "execution_count": null,
   "id": "e40423b8-1d31-4f1b-8433-92951aa78c2d",
   "metadata": {},
   "outputs": [],
   "source": [
    "classifier_svm_rbf = SVC(kernel=\"rbf\")\n",
    "classifier_svm_rbf.fit(trainCV, y_train)\n",
    "pred_svm_rbf = classifier_svm_rbf.predict(testCV)"
   ]
  },
  {
   "cell_type": "code",
   "execution_count": null,
   "id": "9693bcf2-5aa7-4a34-95cd-f46c3a2af44e",
   "metadata": {},
   "outputs": [],
   "source": [
    "Accuracy_Score_SVM_Gaussion = accuracy_score(y_test, pred_svm_rbf)\n",
    "Accuracy_Score_SVM_Gaussion"
   ]
  },
  {
   "cell_type": "code",
   "execution_count": null,
   "id": "0322a1c1-d0b3-461e-811a-340f9639adc1",
   "metadata": {},
   "outputs": [],
   "source": [
    "classifier_svm_poly = SVC(kernel=\"poly\")\n",
    "classifier_svm_poly.fit(trainCV, y_train)\n",
    "pred_svm_poly = classifier_svm_poly.predict(testCV)"
   ]
  },
  {
   "cell_type": "code",
   "execution_count": null,
   "id": "1d9ec24a-03b7-4f04-90a7-a7ff74b85d45",
   "metadata": {},
   "outputs": [],
   "source": [
    "Accuracy_Score_SVM_Polynomial = accuracy_score(y_test, pred_svm_poly)\n",
    "Accuracy_Score_SVM_Polynomial"
   ]
  },
  {
   "cell_type": "code",
   "execution_count": null,
   "id": "6d5377be-6f1c-48e0-bcb5-d7576cd2d21d",
   "metadata": {},
   "outputs": [],
   "source": [
    "classifier_svm_sigmoid = SVC(kernel=\"sigmoid\")\n",
    "classifier_svm_sigmoid.fit(trainCV, y_train)\n",
    "pred_svm_sigmoid = classifier_svm_sigmoid.predict(testCV)"
   ]
  },
  {
   "cell_type": "code",
   "execution_count": null,
   "id": "71c524c2-776d-4deb-950c-438f16f70f11",
   "metadata": {},
   "outputs": [],
   "source": [
    "Accuracy_Score_svm_Sigmoid = accuracy_score(y_test, pred_svm_sigmoid)\n",
    "Accuracy_Score_svm_Sigmoid"
   ]
  },
  {
   "cell_type": "code",
   "execution_count": null,
   "id": "b876f5a9-fa3d-4877-b2d0-a00876463aa1",
   "metadata": {},
   "outputs": [],
   "source": [
    "from sklearn.tree import DecisionTreeClassifier\n",
    "\n",
    "classifier_dt = DecisionTreeClassifier()\n",
    "classifier_dt.fit(trainCV, y_train)\n",
    "pred_dt = classifier_dt.predict(testCV)"
   ]
  },
  {
   "cell_type": "code",
   "execution_count": null,
   "id": "400b3721-5a74-45c2-a977-46af33ee23e4",
   "metadata": {},
   "outputs": [],
   "source": [
    "Accuracy_Score_dt = accuracy_score(y_test, pred_dt)\n",
    "Accuracy_Score_dt"
   ]
  },
  {
   "cell_type": "code",
   "execution_count": null,
   "id": "e8b9e265-9c2d-4749-a5be-4ea3c565d1c3",
   "metadata": {},
   "outputs": [],
   "source": [
    "from sklearn.ensemble import RandomForestClassifier\n",
    "\n",
    "classifier_rf = RandomForestClassifier()\n",
    "classifier_rf.fit(trainCV, y_train)\n",
    "pred_rf = classifier_rf.predict(testCV)"
   ]
  },
  {
   "cell_type": "code",
   "execution_count": null,
   "id": "b83a78c0-90ad-4294-bafb-592315bd39ad",
   "metadata": {},
   "outputs": [],
   "source": [
    "Accuracy_Score_rf = accuracy_score(y_test, pred_rf)\n",
    "Accuracy_Score_rf"
   ]
  },
  {
   "cell_type": "code",
   "execution_count": null,
   "id": "5394571b-9a49-4b2b-89e1-8fa4b7547a72",
   "metadata": {},
   "outputs": [],
   "source": [
    "print(\"K-Nearest Neighbors =\", Accuracy_Score_knn)\n",
    "print(\"Naive Bayes =\", Accuracy_Score_NB)\n",
    "print(\"Support Vector Machine Linear =\", Accuracy_Score_SVM_Linear)\n",
    "print(\"Support Vector Machine Gaussion =\", Accuracy_Score_SVM_Gaussion)\n",
    "print(\"Support Vector Machine Polynomial =\", Accuracy_Score_SVM_Polynomial)\n",
    "print(\"Support Vector Machine Sigmoid =\", Accuracy_Score_svm_Sigmoid)\n",
    "print(\"Decision Tree =\", Accuracy_Score_dt)\n",
    "print(\"Random Forest =\", Accuracy_Score_rf)"
   ]
  }
 ],
 "metadata": {
  "kernelspec": {
   "display_name": "Python 3 (ipykernel)",
   "language": "python",
   "name": "python3"
  },
  "language_info": {
   "codemirror_mode": {
    "name": "ipython",
    "version": 3
   },
   "file_extension": ".py",
   "mimetype": "text/x-python",
   "name": "python",
   "nbconvert_exporter": "python",
   "pygments_lexer": "ipython3",
   "version": "3.11.9"
  }
 },
 "nbformat": 4,
 "nbformat_minor": 5
}
