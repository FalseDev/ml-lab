{
 "cells": [
  {
   "cell_type": "markdown",
   "id": "b8810a09-ca8d-4a0b-a170-e8a8dffd3ed6",
   "metadata": {},
   "source": [
    "# Importing Libraries\n",
    "We begin by importing the necessary libraries for numerical operations and data manipulation."
   ]
  },
  {
   "cell_type": "code",
   "execution_count": null,
   "id": "744f1660-2ece-4497-9875-925cd95c7e41",
   "metadata": {},
   "outputs": [],
   "source": [
    "import pandas as pd"
   ]
  },
  {
   "cell_type": "markdown",
   "id": "82aa2a81-4c40-4357-b066-836a8d2ade44",
   "metadata": {},
   "source": [
    "# Loading the Dataset\n",
    "Here, we load the dataset from a CSV file and separate the features (independent variables) from the target (dependent variable)."
   ]
  },
  {
   "cell_type": "code",
   "execution_count": null,
   "id": "b9553fd0-4dbd-49be-8ef9-8e08dff42c43",
   "metadata": {},
   "outputs": [],
   "source": [
    "dataset = pd.read_csv(\"datasets/ShopSellData.csv\")"
   ]
  },
  {
   "cell_type": "markdown",
   "id": "e58615a8-a416-4634-ac78-1bc791d5d481",
   "metadata": {},
   "source": [
    "# Splitting the inputs and outputs\n",
    "`dataset.iloc` can be used to index into rows and columns using integers.\n",
    "\n",
    "The first parameter is rows and the second parameter is columns.\n",
    "\n",
    "`dataset.iloc[:, :-1]` indexes all rows and columns from 0 to before last, thus excluding the last one.\n",
    "\n",
    "if column names are known, then we can also use `dataset.loc` to perform indexing using only column names.\n",
    "\n",
    "It is notable that using column names will index inclusively (last column is included in result unlike integers)."
   ]
  },
  {
   "cell_type": "code",
   "execution_count": null,
   "id": "7d499c85-91be-4d73-846c-fd1ae8c02085",
   "metadata": {},
   "outputs": [],
   "source": [
    "x = dataset.loc[:, :\"Salary\"].values"
   ]
  },
  {
   "cell_type": "code",
   "execution_count": null,
   "id": "c0609b63-d173-4cd5-b98e-32aeabef31c4",
   "metadata": {},
   "outputs": [],
   "source": [
    "x"
   ]
  },
  {
   "cell_type": "code",
   "execution_count": null,
   "id": "27bf5e00-085e-4286-a01e-f0023b94f16d",
   "metadata": {},
   "outputs": [],
   "source": [
    "dataset.iloc[:, :-1]"
   ]
  },
  {
   "cell_type": "code",
   "execution_count": null,
   "id": "5961c8af-e1ed-41dd-933a-4ba0752475e0",
   "metadata": {},
   "outputs": [],
   "source": [
    "y = dataset.iloc[:, 3].values"
   ]
  },
  {
   "cell_type": "code",
   "execution_count": null,
   "id": "be3fbb42-b66c-4321-924c-14bcb1f505ee",
   "metadata": {},
   "outputs": [],
   "source": [
    "dataset.iloc[:, 3]"
   ]
  },
  {
   "cell_type": "markdown",
   "id": "8f170a0c-addb-437a-a354-9921e7a0e3f3",
   "metadata": {},
   "source": [
    "# Viewing the Dataset\n",
    "We display the entire dataset and a quick overview of the first two rows to understand its structure."
   ]
  },
  {
   "cell_type": "code",
   "execution_count": null,
   "id": "e2071e80-6b3a-4876-9034-52de5cb55e88",
   "metadata": {},
   "outputs": [],
   "source": [
    "dataset"
   ]
  },
  {
   "cell_type": "code",
   "execution_count": null,
   "id": "e636aed7-e614-417d-9e12-ed8a064cab78",
   "metadata": {},
   "outputs": [],
   "source": [
    "dataset.head()"
   ]
  },
  {
   "cell_type": "code",
   "execution_count": null,
   "id": "958fc1f5-f67c-4afa-a634-ac52f5b41588",
   "metadata": {},
   "outputs": [],
   "source": [
    "dataset.head(2)"
   ]
  },
  {
   "cell_type": "code",
   "execution_count": null,
   "id": "002c9e39-9366-46c3-a5e0-696ea859341e",
   "metadata": {},
   "outputs": [],
   "source": [
    "dataset.tail(2)"
   ]
  },
  {
   "cell_type": "markdown",
   "id": "de9fc4cb-5dbb-437f-96fc-060949a2bbcb",
   "metadata": {},
   "source": [
    "# Label Encoding\n",
    "Label Encoding is used to convert categorical data into numeric form. Here, we encode the 'Country' column.\n",
    "\n",
    "`LabelEncoder` is a class we import from scikit-learn (imported as `sklearn`) library"
   ]
  },
  {
   "cell_type": "code",
   "execution_count": null,
   "id": "cf4413ce-aeb7-4281-a7cd-14c1e9d96ae6",
   "metadata": {},
   "outputs": [],
   "source": [
    "from sklearn.preprocessing import LabelEncoder"
   ]
  },
  {
   "cell_type": "code",
   "execution_count": null,
   "id": "dacf6135-fee5-4aec-af2f-14c9bc1a30b4",
   "metadata": {},
   "outputs": [],
   "source": [
    "label_encode_x = LabelEncoder()"
   ]
  },
  {
   "cell_type": "code",
   "execution_count": null,
   "id": "bc9b9370-3f96-4fea-9b6e-e818a01bd88d",
   "metadata": {},
   "outputs": [],
   "source": [
    "x[:, 0] = label_encode_x.fit_transform(x[:, 0])"
   ]
  },
  {
   "cell_type": "code",
   "execution_count": null,
   "id": "554be6d3-baf1-4495-a038-d4e8eba5b190",
   "metadata": {},
   "outputs": [],
   "source": [
    "x"
   ]
  },
  {
   "cell_type": "markdown",
   "id": "7cf1d577-4f6f-46ed-8f0a-0914a8c39b32",
   "metadata": {},
   "source": [
    "# One Hot Encoding\n",
    "One Hot Encoding is used to create dummy variables for categorical data. This step ensures that the encoded categorical data does not imply any ordinal relationship."
   ]
  },
  {
   "cell_type": "code",
   "execution_count": null,
   "id": "c69d170b-4f0f-4c50-bd7e-703683254b6a",
   "metadata": {},
   "outputs": [],
   "source": [
    "from sklearn.preprocessing import OneHotEncoder"
   ]
  },
  {
   "cell_type": "code",
   "execution_count": null,
   "id": "45638807-9e41-4bcb-8b31-6fa934041cfd",
   "metadata": {},
   "outputs": [],
   "source": [
    "onehotencoder = OneHotEncoder()"
   ]
  },
  {
   "cell_type": "code",
   "execution_count": null,
   "id": "30303081-e2e2-4e39-937d-9343c83f729b",
   "metadata": {},
   "outputs": [],
   "source": [
    "onehotencoder.fit_transform(x[:, 0].reshape(-1, 1)).toarray()"
   ]
  },
  {
   "cell_type": "markdown",
   "id": "de6ada26-7ffd-40ba-ba89-6c8acd6e5e98",
   "metadata": {},
   "source": [
    "# Encoding the Target Variable\n",
    "Similar to the feature encoding, we encode the target variable 'Purchased' to convert it into numeric form."
   ]
  },
  {
   "cell_type": "code",
   "execution_count": null,
   "id": "b39f5319-56db-4fe0-a55b-ecb625c1834f",
   "metadata": {},
   "outputs": [],
   "source": [
    "label_encode_y = LabelEncoder()"
   ]
  },
  {
   "cell_type": "code",
   "execution_count": null,
   "id": "8262b86e-fb6e-4b4a-aed4-13bac8bd2046",
   "metadata": {},
   "outputs": [],
   "source": [
    "y = label_encode_y.fit_transform(y)"
   ]
  },
  {
   "cell_type": "code",
   "execution_count": null,
   "id": "fac7963f-4783-474e-a697-1c665a880a94",
   "metadata": {},
   "outputs": [],
   "source": [
    "y"
   ]
  },
  {
   "cell_type": "markdown",
   "id": "6d4c21be-cf2c-4a2d-bc22-d6dbbb37bea0",
   "metadata": {},
   "source": [
    "# Splitting the Dataset\n",
    "We split the dataset into training and test sets. This allows us to train our model on one set of data and test it on another to evaluate its performance."
   ]
  },
  {
   "cell_type": "code",
   "execution_count": null,
   "id": "e0cd4547-d1e3-4886-910a-a6e7b4045d5e",
   "metadata": {},
   "outputs": [],
   "source": [
    "from sklearn.model_selection import train_test_split"
   ]
  },
  {
   "cell_type": "code",
   "execution_count": null,
   "id": "1b075efb-5079-48ba-8f44-049c26ab81ca",
   "metadata": {},
   "outputs": [],
   "source": [
    "x_train, x_test, y_train, y_test = train_test_split(x, y, test_size=0.2, random_state=0)"
   ]
  },
  {
   "cell_type": "code",
   "execution_count": null,
   "id": "0b967775-e2aa-4149-9b2d-d977862b1dbf",
   "metadata": {},
   "outputs": [],
   "source": [
    "x_train"
   ]
  },
  {
   "cell_type": "code",
   "execution_count": null,
   "id": "4cf7f4de-c271-4031-a102-1eecd32d235f",
   "metadata": {},
   "outputs": [],
   "source": [
    "x_test"
   ]
  },
  {
   "cell_type": "code",
   "execution_count": null,
   "id": "0142bea2-81f0-4de1-ba57-95e519e49d60",
   "metadata": {},
   "outputs": [],
   "source": [
    "y_train"
   ]
  },
  {
   "cell_type": "code",
   "execution_count": null,
   "id": "5e683d7d-fd16-463b-bbf0-87898f80870c",
   "metadata": {},
   "outputs": [],
   "source": [
    "y_test"
   ]
  },
  {
   "cell_type": "markdown",
   "id": "cd0823fb-5973-46d4-98f6-4db9106a1878",
   "metadata": {},
   "source": [
    "# Feature Scaling\n",
    "Feature scaling is performed to standardize the range of independent variables. It ensures that each feature contributes equally to the model."
   ]
  },
  {
   "cell_type": "code",
   "execution_count": null,
   "id": "f30a17ce-b808-4505-9803-6e385912af1e",
   "metadata": {},
   "outputs": [],
   "source": [
    "from sklearn.preprocessing import StandardScaler"
   ]
  },
  {
   "cell_type": "code",
   "execution_count": null,
   "id": "b0ba163b-51fe-4a0d-bd1f-9b6efc12087c",
   "metadata": {},
   "outputs": [],
   "source": [
    "sc_x = StandardScaler()"
   ]
  },
  {
   "cell_type": "code",
   "execution_count": null,
   "id": "565f6544-70cc-45ad-a044-79b73b59d85c",
   "metadata": {},
   "outputs": [],
   "source": [
    "x_train_scaled = sc_x.fit_transform(x_train)"
   ]
  },
  {
   "cell_type": "code",
   "execution_count": null,
   "id": "3e7e9afa-9177-4a6e-b49d-3abc194f0519",
   "metadata": {},
   "outputs": [],
   "source": [
    "x_test_scaled = sc_x.transform(x_test)"
   ]
  },
  {
   "cell_type": "code",
   "execution_count": null,
   "id": "7361c3b5-867f-4b35-bf2a-4c5aaa2952be",
   "metadata": {},
   "outputs": [],
   "source": [
    "x_train_scaled"
   ]
  },
  {
   "cell_type": "code",
   "execution_count": null,
   "id": "5015c115-55bb-45fe-809a-32651c93de81",
   "metadata": {},
   "outputs": [],
   "source": [
    "x_test_scaled"
   ]
  }
 ],
 "metadata": {
  "kernelspec": {
   "display_name": "Python 3 (ipykernel)",
   "language": "python",
   "name": "python3"
  },
  "language_info": {
   "codemirror_mode": {
    "name": "ipython",
    "version": 3
   },
   "file_extension": ".py",
   "mimetype": "text/x-python",
   "name": "python",
   "nbconvert_exporter": "python",
   "pygments_lexer": "ipython3",
   "version": "3.11.9"
  }
 },
 "nbformat": 4,
 "nbformat_minor": 5
}
