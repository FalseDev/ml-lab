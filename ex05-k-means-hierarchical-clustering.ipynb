{
 "cells": [
  {
   "cell_type": "code",
   "execution_count": null,
   "id": "dc78f123-a655-4fb4-b8d2-9c89a3b019d6",
   "metadata": {},
   "outputs": [],
   "source": [
    "import pandas as pd\n",
    "from matplotlib import pyplot as plt\n",
    "import seaborn as sns\n",
    "from sklearn.cluster import KMeans"
   ]
  },
  {
   "cell_type": "code",
   "execution_count": null,
   "id": "0d4bb010-dc54-4a5c-baae-a422c4645fd4",
   "metadata": {},
   "outputs": [],
   "source": [
    "df = pd.read_csv(\"datasets/Mall_Customers.csv\")\n",
    "# loads the csv file into a pandas dataframe\n",
    "df"
   ]
  },
  {
   "cell_type": "code",
   "execution_count": null,
   "id": "5e0bfcff-72ca-41f6-a605-25fe049cdf3b",
   "metadata": {},
   "outputs": [],
   "source": [
    "df.head()"
   ]
  },
  {
   "cell_type": "code",
   "execution_count": null,
   "id": "10221c75-3d95-43e4-ab46-be17b5b66955",
   "metadata": {},
   "outputs": [],
   "source": [
    "df.shape"
   ]
  },
  {
   "cell_type": "code",
   "execution_count": null,
   "id": "3088e7bf-5ed2-4fcf-a720-c63d189732de",
   "metadata": {},
   "outputs": [],
   "source": [
    "df.info()  # with the help of it we get brief information about our dataset"
   ]
  },
  {
   "cell_type": "code",
   "execution_count": null,
   "id": "579a70db-61f8-4aeb-a0d6-b1702e4a3dbd",
   "metadata": {},
   "outputs": [],
   "source": [
    "# one way to access the annual income and spending score column\n",
    "df.iloc[:, [3, 4]]"
   ]
  },
  {
   "cell_type": "code",
   "execution_count": null,
   "id": "bd58a573-4233-4a4e-b521-3ef571e0e56b",
   "metadata": {},
   "outputs": [],
   "source": [
    "x = df.loc[:, \"Annual Income (k$)\":\"Spending Score (1-100)\"].values"
   ]
  },
  {
   "cell_type": "code",
   "execution_count": null,
   "id": "e4a45750-ef40-4758-ba12-a4c2a2478b5d",
   "metadata": {},
   "outputs": [],
   "source": [
    "x"
   ]
  },
  {
   "cell_type": "markdown",
   "id": "2ebecef5-08f4-4694-bec6-ebdeb0993180",
   "metadata": {},
   "source": [
    "# Exploratory Data Analysis (EDA)"
   ]
  },
  {
   "cell_type": "code",
   "execution_count": null,
   "id": "bdf090d5-998c-4680-9f70-be6c62445b60",
   "metadata": {},
   "outputs": [],
   "source": [
    "# Renaming a column in the dataset\n",
    "df.rename(\n",
    "    columns={\"Genre\": \"Gender\"}, inplace=True\n",
    ")  # To rename column 2 from Genre to Gender\n",
    "df.head()  # Checking if the correction has been effected"
   ]
  },
  {
   "cell_type": "code",
   "execution_count": null,
   "id": "23719d3c-2653-42c3-acf6-f38aa3c63f58",
   "metadata": {},
   "outputs": [],
   "source": [
    "# Checking data types and shape\n",
    "df.dtypes  # returns the data types of the variables"
   ]
  },
  {
   "cell_type": "code",
   "execution_count": null,
   "id": "1863902e-6f80-42d6-a5bd-a692a8167298",
   "metadata": {},
   "outputs": [],
   "source": [
    "# Descriptive statistics\n",
    "df.describe()  # returns the descriptive statistics of the dataset."
   ]
  },
  {
   "cell_type": "code",
   "execution_count": null,
   "id": "6a203acf-bbd1-48ef-bc66-ea2dca5c6748",
   "metadata": {},
   "outputs": [],
   "source": [
    "# Looking for null or missing values\n",
    "df.isnull().sum()  # returns the number of missing values"
   ]
  },
  {
   "cell_type": "code",
   "execution_count": null,
   "id": "e39ec8fa-e37b-4753-865a-21e9d9f006eb",
   "metadata": {},
   "outputs": [],
   "source": [
    "# Looking for duplicated values\n",
    "df.duplicated()  # Checking for duplicate values."
   ]
  },
  {
   "cell_type": "markdown",
   "id": "b60e37fe-8efe-412c-89d6-cc53a67e8383",
   "metadata": {},
   "source": [
    "# Bivariate Analysis — Scatterplot"
   ]
  },
  {
   "cell_type": "code",
   "execution_count": null,
   "id": "a7568975-7c88-4de0-bc7f-23c5d6a4b2dc",
   "metadata": {},
   "outputs": [],
   "source": [
    "sns.set_style(\"dark\")\n",
    "sns.scatterplot(x=\"Annual Income (k$)\", y=\"Spending Score (1-100)\", data=df)\n",
    "plt.xlabel(\"Annual Income (k$)\")\n",
    "plt.ylabel(\"Spending Score (1-100)\")\n",
    "plt.title(\"Scatterplot Between Annual Income (k$) and Spending Score (1-100)\")"
   ]
  },
  {
   "cell_type": "code",
   "execution_count": null,
   "id": "41f4def5-6e97-4c98-9b3d-86d917612f0a",
   "metadata": {},
   "outputs": [],
   "source": [
    "# Feature Selection(Choosing the columns of interest for clustering)\n",
    "X = df.loc[:, [\"Annual Income (k$)\", \"Spending Score (1-100)\"]].values\n",
    "X"
   ]
  },
  {
   "cell_type": "markdown",
   "id": "2d3df945-66b2-4eec-b88e-76bd95fd40e6",
   "metadata": {},
   "source": [
    "# Step 2: Perform Elbow Method To Find Optimal No.Of Clusters"
   ]
  },
  {
   "cell_type": "code",
   "execution_count": null,
   "id": "7d5b7ab4-7820-40a2-a5ef-a72d5aadad3b",
   "metadata": {},
   "outputs": [],
   "source": [
    "wcss = []"
   ]
  },
  {
   "cell_type": "code",
   "execution_count": null,
   "id": "8c0d0eb5-eeea-4297-bc64-a7adf1643feb",
   "metadata": {},
   "outputs": [],
   "source": [
    "for i in range(1, 11):\n",
    "    kmeans = KMeans(n_clusters=i, init=\"k-means++\", random_state=0)\n",
    "    kmeans.fit(x)\n",
    "    wcss.append(kmeans.inertia_)"
   ]
  },
  {
   "cell_type": "code",
   "execution_count": null,
   "id": "fa8a43cf-5115-49c4-9013-e930c9f3c14f",
   "metadata": {},
   "outputs": [],
   "source": [
    "plt.figure(figsize=(12, 6))\n",
    "plt.grid()\n",
    "plt.plot(\n",
    "    range(1, 11),\n",
    "    wcss,\n",
    "    color=\"green\",\n",
    "    linestyle=\"dashed\",\n",
    "    linewidth=3,\n",
    "    marker=\"o\",\n",
    "    markerfacecolor=\"blue\",\n",
    "    markersize=12,\n",
    ")\n",
    "plt.title(\"The Elbow Point Graph\")\n",
    "plt.xlabel(\"Number of Clusters\")\n",
    "plt.ylabel(\"WCSS\")\n",
    "plt.show()"
   ]
  },
  {
   "cell_type": "markdown",
   "id": "f3e27b84-e43d-41b7-9f64-983693c38432",
   "metadata": {},
   "source": [
    "# Training the K-Means Clustering Model"
   ]
  },
  {
   "cell_type": "code",
   "execution_count": null,
   "id": "786c7d9a-abe6-45e3-bc53-67cbe87adcd6",
   "metadata": {},
   "outputs": [],
   "source": [
    "kmeans = KMeans(n_clusters=5, init=\"k-means++\")  # initialize the class object\n",
    "label = kmeans.fit_predict(X)  # returns a cluster number for each of the data points\n",
    "print(label)"
   ]
  },
  {
   "cell_type": "markdown",
   "id": "a2ff2746-4980-45d3-aa30-57180352ae00",
   "metadata": {},
   "source": [
    "# Checking the centers of out clusters (Also known as Centroids)"
   ]
  },
  {
   "cell_type": "code",
   "execution_count": null,
   "id": "248ba216-4af3-4af1-9f3f-c54dc70f196c",
   "metadata": {},
   "outputs": [],
   "source": [
    "print(kmeans.cluster_centers_)"
   ]
  },
  {
   "cell_type": "markdown",
   "id": "d34391ab-b7b1-4d60-bb00-5cda8ff1d7e0",
   "metadata": {},
   "source": [
    "# Visualizing all the clusters"
   ]
  },
  {
   "cell_type": "code",
   "execution_count": null,
   "id": "b24a5437-e7be-4894-abfa-1365a4c3849f",
   "metadata": {},
   "outputs": [],
   "source": [
    "import matplotlib.pyplot as plt\n",
    "\n",
    "plt.figure(figsize=(8, 8))\n",
    "\n",
    "# Scatter plot for 5 clusters\n",
    "plt.scatter(X[label == 0, 0], X[label == 0, 1], s=50, c=\"green\", label=\"Cluster 1\")\n",
    "plt.scatter(X[label == 1, 0], X[label == 1, 1], s=50, c=\"yellow\", label=\"Cluster 2\")\n",
    "plt.scatter(X[label == 2, 0], X[label == 2, 1], s=50, c=\"red\", label=\"Cluster 3\")\n",
    "plt.scatter(X[label == 3, 0], X[label == 3, 1], s=50, c=\"purple\", label=\"Cluster 4\")\n",
    "plt.scatter(X[label == 4, 0], X[label == 4, 1], s=50, c=\"blue\", label=\"Cluster 5\")\n",
    "\n",
    "# Scatter plot for cluster centers\n",
    "plt.scatter(\n",
    "    kmeans.cluster_centers_[:, 0],\n",
    "    kmeans.cluster_centers_[:, 1],\n",
    "    s=100,\n",
    "    c=\"black\",\n",
    "    label=\"Centroids\",\n",
    "    marker=\"*\",\n",
    ")\n",
    "\n",
    "plt.title(\"Customer groups\")\n",
    "plt.xlabel(\"Annual Income\")\n",
    "plt.ylabel(\"Spending Score (1-100)\")\n",
    "plt.legend()\n",
    "\n",
    "plt.show()"
   ]
  }
 ],
 "metadata": {
  "kernelspec": {
   "display_name": "Python 3 (ipykernel)",
   "language": "python",
   "name": "python3"
  },
  "language_info": {
   "codemirror_mode": {
    "name": "ipython",
    "version": 3
   },
   "file_extension": ".py",
   "mimetype": "text/x-python",
   "name": "python",
   "nbconvert_exporter": "python",
   "pygments_lexer": "ipython3",
   "version": "3.11.9"
  }
 },
 "nbformat": 4,
 "nbformat_minor": 5
}
