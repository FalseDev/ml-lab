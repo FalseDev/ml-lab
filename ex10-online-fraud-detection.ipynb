{
 "cells": [
  {
   "cell_type": "code",
   "execution_count": null,
   "id": "a49045b8-5c3e-4a61-8b37-1f88103f7434",
   "metadata": {},
   "outputs": [],
   "source": [
    "import pandas as pd\n",
    "\n",
    "# Load the creditcard.csv using pandas\n",
    "datainput = pd.read_csv(\"datasets/creditcard.csv\")\n",
    "# https://www.Rkaggle.com/mlg-ulb/creditcardfraud\n",
    "# Print the top 5 records\n",
    "print(datainput[0:5])\n",
    "# Print the complete shape of the dataset\n",
    "print(\"Shape of Complete Data Set\")\n",
    "print(datainput.shape)"
   ]
  },
  {
   "cell_type": "code",
   "execution_count": null,
   "id": "5cd5e69b-4c79-4a97-b486-6cde76237d23",
   "metadata": {},
   "outputs": [],
   "source": [
    "false = datainput[datainput[\"Class\"] == 1]\n",
    "true = datainput[datainput[\"Class\"] == 0]\n",
    "n = len(false) / float(len(true))\n",
    "print(n)\n",
    "print(\"False Detection Cases: {}\".format(len(datainput[datainput[\"Class\"] == 1])))\n",
    "print(\"True Detection Cases: {}\".format(len(datainput[datainput[\"Class\"] == 0])))"
   ]
  },
  {
   "cell_type": "code",
   "execution_count": null,
   "id": "8efee44e-dccd-4c32-821d-519aa59c0bfc",
   "metadata": {},
   "outputs": [],
   "source": [
    "# False Detection Cases\n",
    "print(\"False Detection Cases\")\n",
    "print(\"----------------------\")\n",
    "print(false.Amount.describe())\n",
    "# True Detection Cases\n",
    "print(\"True Detection Cases\")\n",
    "print(\"----------------------\")\n",
    "print(true.Amount.describe())"
   ]
  },
  {
   "cell_type": "code",
   "execution_count": null,
   "id": "7427dd7d-feb1-45e9-b6d8-bec316b1e53d",
   "metadata": {},
   "outputs": [],
   "source": [
    "# separating features(X) and Label(y)\n",
    "# Select all columns except the last for all rows\n",
    "X = datainput.iloc[:, :-1].values\n",
    "# Select the last column of all rows\n",
    "Y = datainput.iloc[:, -1].values\n",
    "print(X.shape)\n",
    "print(Y.shape)"
   ]
  },
  {
   "cell_type": "code",
   "execution_count": null,
   "id": "ec088096-072d-4d49-bc18-bb292c7d2ae9",
   "metadata": {},
   "outputs": [],
   "source": [
    "from sklearn.model_selection import train_test_split\n",
    "\n",
    "# train_test_split method\n",
    "X_train, X_test, Y_train, Y_test = train_test_split(X, Y, test_size=0.2)"
   ]
  },
  {
   "cell_type": "code",
   "execution_count": null,
   "id": "c94f8817-2b23-44da-9662-577e3ffc38ff",
   "metadata": {},
   "outputs": [],
   "source": [
    "from sklearn import metrics\n",
    "\n",
    "# DecisionTreeClassifier\n",
    "from sklearn.tree import DecisionTreeClassifier\n",
    "\n",
    "classifier = DecisionTreeClassifier(max_depth=4)\n",
    "classifier.fit(X_train, Y_train)\n",
    "predicted = classifier.predict(X_test)\n",
    "print(\"predicted values :\", predicted)\n",
    "\n",
    "# Accuracy\n",
    "DT = metrics.accuracy_score(Y_test, predicted) * 100\n",
    "print(\"The accuracy score using the DecisionTreeClassifier : \", DT)"
   ]
  },
  {
   "cell_type": "code",
   "execution_count": null,
   "id": "6d5aca1b-2063-4ef6-9bdc-e215f74dc60b",
   "metadata": {},
   "outputs": [],
   "source": [
    "from sklearn.metrics import precision_score\n",
    "from sklearn.metrics import recall_score\n",
    "from sklearn.metrics import f1_score\n",
    "\n",
    "# Precision\n",
    "print(\"precision\")\n",
    "# Precision = TP / (TP + FP) (Where TP = True Positive, TN = True Negative, FP =\n",
    "precision = precision_score(Y_test, predicted, pos_label=1)\n",
    "print(precision_score(Y_test, predicted, pos_label=1))\n",
    "# Recall\n",
    "print(\"recall\")\n",
    "# Recall = TP / (TP + FN)\n",
    "recall = recall_score(Y_test, predicted, pos_label=1)\n",
    "print(recall_score(Y_test, predicted, pos_label=1))\n",
    "# f1-score\n",
    "print(\"f-Score\")\n",
    "# F - scores are a statistical method for determining accuracy accounting for bot\n",
    "fscore = f1_score(Y_test, predicted, pos_label=1)\n",
    "print(f1_score(Y_test, predicted, pos_label=1))"
   ]
  }
 ],
 "metadata": {
  "kernelspec": {
   "display_name": "Python 3 (ipykernel)",
   "language": "python",
   "name": "python3"
  },
  "language_info": {
   "codemirror_mode": {
    "name": "ipython",
    "version": 3
   },
   "file_extension": ".py",
   "mimetype": "text/x-python",
   "name": "python",
   "nbconvert_exporter": "python",
   "pygments_lexer": "ipython3",
   "version": "3.11.9"
  }
 },
 "nbformat": 4,
 "nbformat_minor": 5
}
