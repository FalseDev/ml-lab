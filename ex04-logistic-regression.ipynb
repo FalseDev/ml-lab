{
 "cells": [
  {
   "cell_type": "code",
   "execution_count": null,
   "id": "76b3b717-8348-45fe-adaf-283be127d70e",
   "metadata": {},
   "outputs": [],
   "source": [
    "import pandas as pd\n",
    "from sklearn.model_selection import train_test_split\n",
    "from sklearn.linear_model import LogisticRegression\n",
    "from sklearn.metrics import confusion_matrix\n",
    "\n",
    "from sklearn.datasets import make_classification\n",
    "from matplotlib import pyplot as plt"
   ]
  },
  {
   "cell_type": "code",
   "execution_count": null,
   "id": "b6ff741e-4541-4d9c-b323-ccd8da7f10fb",
   "metadata": {},
   "outputs": [],
   "source": [
    "x, y = make_classification(\n",
    "    n_samples=100,\n",
    "    n_features=1,\n",
    "    n_classes=2,\n",
    "    n_clusters_per_class=1,\n",
    "    flip_y=0.03,\n",
    "    n_informative=1,\n",
    "    n_redundant=0,\n",
    "    n_repeated=0,\n",
    ")\n",
    "print(y)"
   ]
  },
  {
   "cell_type": "code",
   "execution_count": null,
   "id": "48be3d28-9123-4324-af63-baeb326fda1a",
   "metadata": {},
   "outputs": [],
   "source": [
    "plt.scatter(x, y, c=y, cmap=\"rainbow\")\n",
    "plt.title(\"scatter plot of Logistic Regression\")\n",
    "plt.show()"
   ]
  },
  {
   "cell_type": "code",
   "execution_count": null,
   "id": "a26dedf0-b7e5-4ce0-9e28-692cbc84f310",
   "metadata": {},
   "outputs": [],
   "source": [
    "x_train, x_test, y_train, y_test = train_test_split(x, y, random_state=1)"
   ]
  },
  {
   "cell_type": "code",
   "execution_count": null,
   "id": "06d2233b-bedb-48d6-be24-0dc380b62cba",
   "metadata": {},
   "outputs": [],
   "source": [
    "x_train.shape"
   ]
  },
  {
   "cell_type": "code",
   "execution_count": null,
   "id": "6188d062-cff7-4679-aae4-7ce551e6c3d3",
   "metadata": {},
   "outputs": [],
   "source": [
    "# step 5 perform logidtic regression\n",
    "log_reg = LogisticRegression()\n",
    "log_reg.fit(x_train, y_train)"
   ]
  },
  {
   "cell_type": "code",
   "execution_count": null,
   "id": "8aaf1a81-eb69-4ae0-b395-1c22838d72ce",
   "metadata": {},
   "outputs": [],
   "source": [
    "# step 6 Make prediction using thr model\n",
    "# performs prediction using the test dataset\n",
    "y_pred = log_reg.predict(x_test)"
   ]
  },
  {
   "cell_type": "code",
   "execution_count": null,
   "id": "24903eda-691d-4993-a8df-1d69daa8d1d4",
   "metadata": {},
   "outputs": [],
   "source": [
    "# step 7 Display the Confusion matrix\n",
    "confusion_matrix(y_test, y_pred)"
   ]
  },
  {
   "cell_type": "code",
   "execution_count": null,
   "id": "69fcfd22-1e3e-4646-bc40-e7ebac06cef6",
   "metadata": {},
   "outputs": [],
   "source": [
    "df = pd.read_csv(\"datasets/insurance_data.csv\")"
   ]
  },
  {
   "cell_type": "code",
   "execution_count": null,
   "id": "a554f8cc-5fd7-4d3d-ac2f-944fc8d29088",
   "metadata": {},
   "outputs": [],
   "source": [
    "df"
   ]
  },
  {
   "cell_type": "code",
   "execution_count": null,
   "id": "f4da7fb6-84dc-42fd-a6e9-6b3965d07c80",
   "metadata": {},
   "outputs": [],
   "source": [
    "df.head()"
   ]
  },
  {
   "cell_type": "code",
   "execution_count": null,
   "id": "5a270dda-99a6-4215-8258-9368c245d388",
   "metadata": {},
   "outputs": [],
   "source": [
    "plt.scatter(df.age, df.bought_insurance, marker=\"+\", color=\"red\")"
   ]
  },
  {
   "cell_type": "code",
   "execution_count": null,
   "id": "a0e00853-3aa8-4b41-b8fd-6782a29cf7d3",
   "metadata": {},
   "outputs": [],
   "source": [
    "df.shape"
   ]
  },
  {
   "cell_type": "code",
   "execution_count": null,
   "id": "3b7dce7a-f8be-493d-9218-b8769840ea8e",
   "metadata": {},
   "outputs": [],
   "source": [
    "x_train, x_test, y_train, y_test = train_test_split(\n",
    "    df[[\"age\"]], df.bought_insurance, test_size=0.1\n",
    ")"
   ]
  },
  {
   "cell_type": "code",
   "execution_count": null,
   "id": "d9586d97-c9de-48ee-86aa-0202977a2cdf",
   "metadata": {},
   "outputs": [],
   "source": [
    "x_test"
   ]
  },
  {
   "cell_type": "code",
   "execution_count": null,
   "id": "b1e07347-8f66-4367-a86f-e0e4528f913d",
   "metadata": {},
   "outputs": [],
   "source": [
    "model = LogisticRegression()"
   ]
  },
  {
   "cell_type": "code",
   "execution_count": null,
   "id": "a0e19372-085c-4114-ae95-43264008d681",
   "metadata": {},
   "outputs": [],
   "source": [
    "model.fit(x_train, y_train)"
   ]
  },
  {
   "cell_type": "code",
   "execution_count": null,
   "id": "d056b0d7-cf96-4960-b709-dbdc6cda2e9c",
   "metadata": {},
   "outputs": [],
   "source": [
    "model.predict(x_test)"
   ]
  },
  {
   "cell_type": "code",
   "execution_count": null,
   "id": "71d57ebd-9082-4037-b956-5d5fdb76084b",
   "metadata": {},
   "outputs": [],
   "source": [
    "model.score(x_test, y_test)"
   ]
  },
  {
   "cell_type": "code",
   "execution_count": null,
   "id": "3558a9b0-9929-4119-a9e3-0c4e20548847",
   "metadata": {},
   "outputs": [],
   "source": [
    "model.predict_proba(x_test)"
   ]
  },
  {
   "cell_type": "code",
   "execution_count": null,
   "id": "07f2bc14-76a2-483e-8b06-7f2b2a4c61ab",
   "metadata": {},
   "outputs": [],
   "source": [
    "df.describe()"
   ]
  }
 ],
 "metadata": {
  "kernelspec": {
   "display_name": "Python 3 (ipykernel)",
   "language": "python",
   "name": "python3"
  },
  "language_info": {
   "codemirror_mode": {
    "name": "ipython",
    "version": 3
   },
   "file_extension": ".py",
   "mimetype": "text/x-python",
   "name": "python",
   "nbconvert_exporter": "python",
   "pygments_lexer": "ipython3",
   "version": "3.11.9"
  }
 },
 "nbformat": 4,
 "nbformat_minor": 5
}
