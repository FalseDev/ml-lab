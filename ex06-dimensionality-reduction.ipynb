{
 "cells": [
  {
   "cell_type": "code",
   "execution_count": null,
   "id": "25b63060-17a4-4e1c-a925-e588cfa2981c",
   "metadata": {},
   "outputs": [],
   "source": [
    "# Import necessary libraries\n",
    "from sklearn import datasets  # to retrieve the iris Dataset\n",
    "import pandas as pd  # to load the dataframe\n",
    "from sklearn.preprocessing import StandardScaler  # to standardize the features\n",
    "from sklearn.decomposition import PCA  # to apply PCA\n",
    "import seaborn as sns  # to plot the heat maps"
   ]
  },
  {
   "cell_type": "code",
   "execution_count": null,
   "id": "2f8f46df-9202-4280-8218-df5f6e86b6cc",
   "metadata": {},
   "outputs": [],
   "source": [
    "# Load the Dataset\n",
    "iris = datasets.load_iris()\n",
    "# convert the dataset into a pandas data frame\n",
    "df = pd.DataFrame(iris[\"data\"], columns=iris[\"feature_names\"])\n",
    "# display the head (first 5 rows) of the dataset\n",
    "df.head()"
   ]
  },
  {
   "cell_type": "code",
   "execution_count": null,
   "id": "f4461de5-42bf-4b2c-a079-f7955a591611",
   "metadata": {},
   "outputs": [],
   "source": [
    "# Standardize the features\n",
    "# Create an object of StandardScaler which is present in sklearn.preprocessing\n",
    "scalar = StandardScaler()\n",
    "scaled_data = pd.DataFrame(scalar.fit_transform(df))  # scaling the data\n",
    "scaled_data"
   ]
  },
  {
   "cell_type": "code",
   "execution_count": null,
   "id": "8d378e5d-08c2-4a1e-bfc6-42fe7d9ad271",
   "metadata": {},
   "outputs": [],
   "source": [
    "# Check the Co-relation between features without PCA\n",
    "sns.heatmap(scaled_data.corr())"
   ]
  },
  {
   "cell_type": "code",
   "execution_count": null,
   "id": "44a2722b-6c9e-440b-8826-9e25b9c72b79",
   "metadata": {},
   "outputs": [],
   "source": [
    "# Applying PCA\n",
    "# Taking no. of Principal Components as 3\n",
    "pca = PCA(n_components=3)\n",
    "pca.fit(scaled_data)\n",
    "data_pca = pca.transform(scaled_data)\n",
    "data_pca = pd.DataFrame(data_pca, columns=[\"PCl\", \"PC2\", \"PC3\"])\n",
    "data_pca.head()"
   ]
  },
  {
   "cell_type": "code",
   "execution_count": null,
   "id": "9bf1ef6e-4ff1-46d9-9196-449034fdad5c",
   "metadata": {},
   "outputs": [],
   "source": [
    "# Checking Co-relation between features after PCA\n",
    "sns.heatmap(data_pca.corr())"
   ]
  }
 ],
 "metadata": {
  "kernelspec": {
   "display_name": "Python 3 (ipykernel)",
   "language": "python",
   "name": "python3"
  },
  "language_info": {
   "codemirror_mode": {
    "name": "ipython",
    "version": 3
   },
   "file_extension": ".py",
   "mimetype": "text/x-python",
   "name": "python",
   "nbconvert_exporter": "python",
   "pygments_lexer": "ipython3",
   "version": "3.11.9"
  }
 },
 "nbformat": 4,
 "nbformat_minor": 5
}
