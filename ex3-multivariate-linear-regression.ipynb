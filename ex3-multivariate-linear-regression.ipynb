{
 "cells": [
  {
   "cell_type": "code",
   "execution_count": null,
   "id": "a34eecaf-2007-44db-b22e-869f44d3793f",
   "metadata": {},
   "outputs": [],
   "source": [
    "import matplotlib.pyplot as plt\n",
    "import pandas as pd\n",
    "import seaborn as sns"
   ]
  },
  {
   "cell_type": "markdown",
   "id": "6b0fc7af-eb4a-4f76-bd29-1a28c02e8112",
   "metadata": {},
   "source": [
    "# Load the Boston Housing DataSet"
   ]
  },
  {
   "cell_type": "code",
   "execution_count": null,
   "id": "ffd5b75c-6aec-4683-ac90-bb60109ee7b1",
   "metadata": {},
   "outputs": [],
   "source": [
    "boston = pd.read_csv(\"./datasets/boston_house_prices.csv\")\n",
    "\n",
    "boston.head()"
   ]
  },
  {
   "cell_type": "markdown",
   "id": "4b2e8031-6e6a-4067-8257-9f1ecb5bcd2a",
   "metadata": {},
   "source": [
    "# Check if our data has null values and count them up for each column"
   ]
  },
  {
   "cell_type": "code",
   "execution_count": null,
   "id": "2b280c3f-afba-4d1e-a1bf-cd66d232a294",
   "metadata": {},
   "outputs": [],
   "source": [
    "boston.isnull().sum()"
   ]
  },
  {
   "cell_type": "markdown",
   "id": "5b6df89c-caa6-4363-854d-a3df03de8ece",
   "metadata": {},
   "source": [
    "# Data Visualization"
   ]
  },
  {
   "cell_type": "code",
   "execution_count": null,
   "id": "4584a39c-77f9-4e47-946f-5a7774399e62",
   "metadata": {},
   "outputs": [],
   "source": [
    "# set the size of the figure\n",
    "sns.set(rc={\"figure.figsize\": (11.7, 8.27)})\n",
    "# plot a histogram showing the distribution of the target values\n",
    "sns.histplot(boston[\"MEDV\"], bins=30, kde=True, stat=\"density\")\n",
    "plt.show()"
   ]
  },
  {
   "cell_type": "markdown",
   "id": "62183ea9-1979-494b-a61a-389819e4e97e",
   "metadata": {},
   "source": [
    "# Correlation matrix"
   ]
  },
  {
   "cell_type": "code",
   "execution_count": null,
   "id": "0f2c487f-2931-4978-a546-522eaa88014a",
   "metadata": {},
   "outputs": [],
   "source": [
    "# compute the pair wise correlation for all columns\n",
    "correlation_matrix = boston.corr().round(2)"
   ]
  },
  {
   "cell_type": "code",
   "execution_count": null,
   "id": "3efa8a99-5860-40b6-9925-605dc5d6496a",
   "metadata": {},
   "outputs": [],
   "source": [
    "# use the heatmap function from seaborn to plot the correlation matrix\n",
    "# annot = True to print the values inside the square\n",
    "sns.heatmap(data=correlation_matrix, annot=True)"
   ]
  },
  {
   "cell_type": "markdown",
   "id": "77669123-8ed4-4c4f-af0c-dfc2fe5278dd",
   "metadata": {},
   "source": [
    "# Observations\n",
    "\n",
    "From the above coorelation plot we can see that MEDV is strongly correlated to LSTAT, RM\n",
    "\n",
    "RAD and TAX are stronly correlated, so we don't include this in our features together to avoid multi-colinearity"
   ]
  },
  {
   "cell_type": "code",
   "execution_count": null,
   "id": "356b7f30-1ea5-46b3-912b-eba8bfe36ef3",
   "metadata": {},
   "outputs": [],
   "source": [
    "plt.figure(figsize=(20, 5))\n",
    "\n",
    "features = [\"LSTAT\", \"RM\"]\n",
    "target = boston[\"MEDV\"]\n",
    "\n",
    "for i, col in enumerate(features):\n",
    "    plt.subplot(1, len(features), i + 1)\n",
    "    x = boston[col]\n",
    "    y = target\n",
    "    plt.scatter(x, y, marker=\"o\")\n",
    "    plt.title(col)\n",
    "    plt.xlabel(col)\n",
    "    plt.ylabel(\"MEDV\")"
   ]
  }
 ],
 "metadata": {
  "kernelspec": {
   "display_name": "Python 3 (ipykernel)",
   "language": "python",
   "name": "python3"
  },
  "language_info": {
   "codemirror_mode": {
    "name": "ipython",
    "version": 3
   },
   "file_extension": ".py",
   "mimetype": "text/x-python",
   "name": "python",
   "nbconvert_exporter": "python",
   "pygments_lexer": "ipython3",
   "version": "3.11.9"
  }
 },
 "nbformat": 4,
 "nbformat_minor": 5
}
